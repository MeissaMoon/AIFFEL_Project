{
 "cells": [
  {
   "cell_type": "markdown",
   "id": "noble-italy",
   "metadata": {},
   "source": [
    "### Camera App 분석\n",
    "---\n",
    "- mkdir -p ~/aiffel/video_sticker_app/models  \n",
    "    \n",
    "  \n",
    "- sudo apt install libgtk2.0-dev pkg-config  \n",
    "- pip install cmake  \n",
    "- pip install dlib  \n",
    "- pip install opencv-contrib-python  \n",
    "  \n",
    "    \n",
    "- wget http://dlib.net/files/shape_predictor_68_face_landmarks.dat.bz2 -P ~/aiffel/video_sticker_app/models/  \n",
    "- bzip2 -d ~/aiffel/video_sticker_app/models/shape_predictor_68_face_landmarks.dat.bz2  "
   ]
  },
  {
   "cell_type": "markdown",
   "id": "classified-tactics",
   "metadata": {},
   "source": [
    "### 동영상에 스티커 붙이기 \n",
    "- wget https://aiffelstaticprd.blob.core.windows.net/media/documents/video_sticker_app.zip -P ~/aiffel/video_sticker_app\n",
    "- cd ~/aiffel/video_sticker_app && unzip video_sticker_app.zip"
   ]
  },
  {
   "cell_type": "markdown",
   "id": "moved-hormone",
   "metadata": {},
   "source": [
    "#### 동영상 처리 방법\n",
    "- pip install moviepy"
   ]
  },
  {
   "cell_type": "code",
   "execution_count": null,
   "id": "assigned-standard",
   "metadata": {},
   "outputs": [],
   "source": [
    "# VideoFileClip 은 비디오 파일을 읽어올 때 사용되는 클래스 \n",
    "from moviepy.editor import VideoFileClip\n",
    "# ipython_display() 는 동영상을 주피터 노트북에 렌더링할 수 있게 도와주는 함수\n",
    "from moviepy.editor import ipython_display"
   ]
  },
  {
   "cell_type": "code",
   "execution_count": null,
   "id": "alive-elephant",
   "metadata": {},
   "outputs": [],
   "source": [
    "import os\n",
    "video_path = os.getenv('HOME')+'/aiffel/video_sticker_app/images/video2.mp4'\n",
    "clip = VideoFileClip(video_path)\n",
    "clip = clip.resize(width=640)\n",
    "clip.ipython_display(fps=30, loop=True, autoplay=True, rd_kwargs=dict(logger=None))"
   ]
  },
  {
   "cell_type": "markdown",
   "id": "announced-soldier",
   "metadata": {},
   "source": [
    "#### 동영상 실행\n",
    "- cd ~/aiffel/video_sticker_app && python videocheck.py\n"
   ]
  },
  {
   "cell_type": "code",
   "execution_count": null,
   "id": "satellite-globe",
   "metadata": {},
   "outputs": [],
   "source": [
    "# videocheck.py\n",
    "import cv2\n",
    "\n",
    "vc = cv2.VideoCapture('./images/video2.mp4')\n",
    "# vc의 get() 함수로 읽을 수 있습니다. FRAME_COUNT 은 비디오 전체 프레임 개수\n",
    "vlen = int(vc.get(cv2.CAP_PROP_FRAME_COUNT))\n",
    "print (vlen) # video length\n",
    "\n",
    "for i in range(vlen):\n",
    "    # ret 은 read() 함수에서 이미지가 반환되면 True, 반대의 경우 False\n",
    "    ret, img = vc.read()\n",
    "    if ret == False:\n",
    "        break\n",
    "\n",
    "    cv2.imshow('show', img)\n",
    "    # waitKey() 함수는 키보드가 입력될 때 키보드 값을 반환 27=esc\n",
    "    key = cv2.waitKey(1)\n",
    "    if key == 27:\n",
    "        break"
   ]
  },
  {
   "cell_type": "markdown",
   "id": "suitable-leather",
   "metadata": {},
   "source": [
    "####  이미지 시퀀스에 스티커앱 적용하기\n",
    "- wget https://aiffelstaticprd.blob.core.windows.net/media/documents/king.zip\n",
    "- unzip king.zip -d ~/aiffel/video_sticker_app/images"
   ]
  },
  {
   "cell_type": "code",
   "execution_count": null,
   "id": "trained-andorra",
   "metadata": {},
   "outputs": [],
   "source": [
    "# addsticker.py\n",
    "import dlib\n",
    "import cv2\n",
    "\n",
    "def img2sticker_orig(img_orig, img_sticker, detector_hog, landmark_predictor):\n",
    "    # preprocess\n",
    "    img_rgb = cv2.cvtColor(img_orig, cv2.COLOR_BGR2RGB)\n",
    "\n",
    "    # detector\n",
    "    dlib_rects = detector_hog(img_rgb, 0)\n",
    "    if len(dlib_rects) < 1:\n",
    "        return img_orig\n",
    "\n",
    "    # landmark\n",
    "    list_landmarks = []\n",
    "    for dlib_rect in dlib_rects:\n",
    "        points = landmark_predictor(img_rgb, dlib_rect)\n",
    "        list_points = list(map(lambda p: (p.x, p.y), points.parts()))\n",
    "        list_landmarks.append(list_points)\n",
    "\n",
    "    # head coord\n",
    "    for dlib_rect, landmark in zip(dlib_rects, list_landmarks):\n",
    "        x = landmark[30][0] # nose\n",
    "        y = landmark[30][1] - dlib_rect.width()//2\n",
    "        w = dlib_rect.width()\n",
    "        h = dlib_rect.width()\n",
    "        break\n",
    "\n",
    "    # sticker\n",
    "    img_sticker = cv2.resize(img_sticker, (w,h), interpolation=cv2.INTER_NEAREST)\n",
    "\n",
    "    refined_x = x - w // 2\n",
    "    refined_y = y - h\n",
    "\n",
    "    if refined_y < 0:\n",
    "        img_sticker = img_sticker[-refined_y:]\n",
    "        refined_y = 0\n",
    "\n",
    "    img_bgr = img_orig.copy()\n",
    "    sticker_area = img_bgr[refined_y:refined_y+img_sticker.shape[0], refined_x:refined_x+img_sticker.shape[1]]\n",
    "\n",
    "    img_bgr[refined_y:refined_y+img_sticker.shape[0], refined_x:refined_x+img_sticker.shape[1]] = \\\n",
    "        cv2.addWeighted(sticker_area, 1.0, img_sticker, 0.7, 0)\n",
    "\n",
    "    return img_bgr"
   ]
  },
  {
   "cell_type": "code",
   "execution_count": null,
   "id": "infrared-basin",
   "metadata": {},
   "outputs": [],
   "source": [
    "detector_hog = dlib.get_frontal_face_detector()\n",
    "landmark_predictor = dlib.shape_predictor('./models/shape_predictor_68_face_landmarks.dat')\n",
    "\n",
    "vc = cv2.VideoCapture('./images/video2.mp4')\n",
    "img_sticker = cv2.imread('./images/king.png')\n",
    "\n",
    "vlen = int(vc.get(cv2.CAP_PROP_FRAME_COUNT))\n",
    "print (vlen) # 비디오 프레임의 총 개수"
   ]
  },
  {
   "cell_type": "code",
   "execution_count": null,
   "id": "sized-asian",
   "metadata": {},
   "outputs": [],
   "source": [
    "for i in range(vlen):\n",
    "    ret, img = vc.read()\n",
    "    if ret == False:\n",
    "        break\n",
    "\n",
    "    ## 추가된 부분\n",
    "    start = cv2.getTickCount()\n",
    "    img_result = img2sticker_orig(img, img_sticker.copy(), detector_hog, landmark_predictor)\n",
    "    time = (cv2.getTickCount() - start) / cv2.getTickFrequency() * 1000\n",
    "    print ('[INFO] time: %.2fms'%time)\n",
    "\n",
    "    cv2.imshow('show', img_result)\n",
    "    key = cv2.waitKey(1)\n",
    "    if key == 27:\n",
    "        break\n",
    "\n",
    "cv2.destroyAllWindows()"
   ]
  },
  {
   "cell_type": "markdown",
   "id": "tribal-retirement",
   "metadata": {},
   "source": [
    "#### 스티커 붙이고 실행\n",
    "- cd ~/aiffel/video_sticker_app && python addsticker.py"
   ]
  },
  {
   "cell_type": "markdown",
   "id": "dated-valuable",
   "metadata": {},
   "source": [
    "#### OpenCV로 동영상 저장하기\n",
    "```\n",
    "fourcc = cv2.VideoWriter_fourcc(*'mp4v')  \n",
    "vw = cv2.VideoWriter('./images/result.mp4', fourcc, 30, (1280, 720))\n",
    "```\n",
    "#### 코덱 찾기\n",
    "```\n",
    "fourcc = int(vc.get(cv2.CAP_PROP_FOURCC))\n",
    "fourcc_str = \"%c%c%c%c\"%(fourcc & 255, (fourcc >> 8) & 255, (fourcc >> 16) & 255, (fourcc >> 24) & 255)\n",
    "print (\"CAP_PROP_FOURCC: \", fourcc_str)\n",
    "```"
   ]
  },
  {
   "cell_type": "code",
   "execution_count": null,
   "id": "sonic-monday",
   "metadata": {},
   "outputs": [],
   "source": [
    "# savevideo.py\n",
    "detector_hog = dlib.get_frontal_face_detector()\n",
    "landmark_predictor = dlib.shape_predictor('./models/shape_predictor_68_face_landmarks.dat')\n",
    "\n",
    "vc = cv2.VideoCapture('./images/video2.mp4')\n",
    "img_sticker = cv2.imread('./images/king.png')\n",
    "\n",
    "vlen = int(vc.get(cv2.CAP_PROP_FRAME_COUNT))\n",
    "print (vlen) # 비디오 프레임의 총 개수\n",
    "\n",
    "# writer 초기화\n",
    "fourcc = cv2.VideoWriter_fourcc(*'mp4v')\n",
    "vw = cv2.VideoWriter('./images/result.mp4', fourcc, 30, (1280, 720))\n",
    "\n",
    "for i in range(vlen):\n",
    "    ret, img = vc.read()\n",
    "    if ret == False:\n",
    "        break\n",
    "\n",
    "    start = cv2.getTickCount()\n",
    "    img_result = img2sticker_orig(img, img_sticker.copy(), detector_hog, landmark_predictor)\n",
    "    time = (cv2.getTickCount() - start) / cv2.getTickFrequency() * 1000\n",
    "    print ('[INFO] time: %.2fms'%time)\n",
    "\n",
    "        # 매 프레임 마다 저장합니다.    \n",
    "    vw.write(cv2.resize(img_result, (1280,720)))\n",
    "\n",
    "    cv2.imshow('show', img_result)\n",
    "    key = cv2.waitKey(1)\n",
    "    if key == 27:\n",
    "        break\n",
    "\n",
    "vw.release()\n",
    "cv2.destroyAllWindows()"
   ]
  },
  {
   "cell_type": "markdown",
   "id": "animated-mineral",
   "metadata": {},
   "source": [
    "#### 비디오에서 스티커작업 후 저장까지\n",
    "- cd ~/aiffel/video_sticker_app && python savevideo.py"
   ]
  },
  {
   "cell_type": "markdown",
   "id": "unlike-antigua",
   "metadata": {},
   "source": [
    "### 성능향상\n",
    "#### 1) 실행시간 분석\n",
    "- img2sticker_orig()함수\n",
    " 1. 전처리 (Preprocess)\n",
    " 2. 얼굴 검출 (Detection)\n",
    " 3. 랜드마크 검출 (Landmark)\n",
    " 4. 좌표변환 (Coord)\n",
    " 5. 스티커 합성 (Sticker)"
   ]
  },
  {
   "cell_type": "code",
   "execution_count": null,
   "id": "champion-simple",
   "metadata": {},
   "outputs": [],
   "source": [
    "# addstiker_timecheck.py\n",
    "def img2sticker_orig(img_orig, img_sticker, detector_hog, landmark_predictor):\n",
    "    # preprocess\n",
    "    start = cv2.getTickCount()\n",
    "    img_rgb = cv2.cvtColor(img_orig, cv2.COLOR_BGR2RGB)\n",
    "    preprocess_time = (cv2.getTickCount() - start) / cv2.getTickFrequency() * 1000\n",
    "\n",
    "    # detector\n",
    "    start = cv2.getTickCount()\n",
    "    dlib_rects = detector_hog(img_rgb, 0)\n",
    "    if len(dlib_rects) < 1:\n",
    "        return img_orig\n",
    "    detection_time = (cv2.getTickCount() - start) / cv2.getTickFrequency() * 1000\n",
    "\n",
    "    # landmark\n",
    "    start = cv2.getTickCount()\n",
    "    list_landmarks = []\n",
    "    for dlib_rect in dlib_rects:\n",
    "        points = landmark_predictor(img_rgb, dlib_rect)\n",
    "        list_points = list(map(lambda p: (p.x, p.y), points.parts()))\n",
    "        list_landmarks.append(list_points)\n",
    "    landmark_time = (cv2.getTickCount() - start) / cv2.getTickFrequency() * 1000\n",
    "\n",
    "    # head coord\n",
    "    start = cv2.getTickCount()\n",
    "    for dlib_rect, landmark in zip(dlib_rects, list_landmarks):\n",
    "        x = landmark[30][0] # nose\n",
    "        y = landmark[30][1] - dlib_rect.width()//2\n",
    "        w = dlib_rect.width()\n",
    "        h = dlib_rect.width()\n",
    "        # x,y,w,h = [ele*2 for ele in [x,y,w,h]]\n",
    "        break\n",
    "    coord_time = (cv2.getTickCount() - start) / cv2.getTickFrequency() * 1000\n",
    "\n",
    "    # sticker\n",
    "    start = cv2.getTickCount()\n",
    "    img_sticker = cv2.resize(img_sticker, (w,h), interpolation=cv2.INTER_NEAREST)\n",
    "\n",
    "    refined_x = x - w // 2\n",
    "    refined_y = y - h\n",
    "\n",
    "    if refined_y < 0:\n",
    "        img_sticker = img_sticker[-refined_y:]\n",
    "        refined_y = 0\n",
    "\n",
    "    img_bgr = img_orig.copy()\n",
    "    sticker_area = img_bgr[refined_y:refined_y+img_sticker.shape[0], refined_x:refined_x+img_sticker.shape[1]]\n",
    "\n",
    "    img_bgr[refined_y:refined_y+img_sticker.shape[0], refined_x:refined_x+img_sticker.shape[1]] = \\\n",
    "        cv2.addWeighted(sticker_area, 1.0, img_sticker, 0.7, 0)\n",
    "    sticker_time = (cv2.getTickCount() - start) / cv2.getTickFrequency() * 1000\n",
    "\n",
    "    print (f'p:{preprocess_time:.1f}ms, d:{detection_time:.1f}ms, l:{landmark_time:.1f}ms, c:{coord_time:.1f}ms, s:{sticker_time:.1f}ms')\n",
    "\n",
    "    return img_bgr"
   ]
  },
  {
   "cell_type": "markdown",
   "id": "paperback-graphic",
   "metadata": {},
   "source": [
    "#### 실행시간 측정\n",
    "- cd ~/aiffel/video_sticker_app && python addsticker_timecheck.py"
   ]
  },
  {
   "cell_type": "code",
   "execution_count": null,
   "id": "lyric-christianity",
   "metadata": {},
   "outputs": [],
   "source": [
    "# addstiker_modified.py\n",
    "def img2sticker_orig(img_orig, img_sticker, detector_hog, landmark_predictor):\n",
    "    # preprocess\n",
    "    img_rgb = cv2.cvtColor(img_orig, cv2.COLOR_BGR2RGB)\n",
    "\n",
    "    # detector\n",
    "    # detector*와 landmark*에 입력되는 img_rgb 이미지를 VGA 크기로 1/4만큼 감소시킵니다.\n",
    "    img_rgb_vga = cv2.resize(img_rgb, (640, 360))\n",
    "    dlib_rects = detector_hog(img_rgb_vga, 0)\n",
    "    if len(dlib_rects) < 1:\n",
    "        return img_orig\n",
    "\n",
    "    # landmark\n",
    "    # 줄인만큼 스티커 위치를 다시 2배로 복원해야 합니다.\n",
    "    list_landmarks = []\n",
    "    for dlib_rect in dlib_rects:\n",
    "        points = landmark_predictor(img_rgb_vga, dlib_rect)\n",
    "        list_points = list(map(lambda p: (p.x, p.y), points.parts()))\n",
    "        list_landmarks.append(list_points)\n",
    "\n",
    "    # head coord\n",
    "    for dlib_rect, landmark in zip(dlib_rects, list_landmarks):\n",
    "        x = landmark[30][0] # nose\n",
    "        y = landmark[30][1] - dlib_rect.width()//2\n",
    "        w = dlib_rect.width()\n",
    "        h = dlib_rect.width()\n",
    "        # 줄인 만큼 스티커 위치를 다시 2배로 복원해야 합니다.\n",
    "        x,y,w,h = [ele*2 for ele in [x,y,w,h]]\n",
    "        break\n",
    "\n",
    "    # sticker\n",
    "    img_sticker = cv2.resize(img_sticker, (w,h), interpolation=cv2.INTER_NEAREST)\n",
    "\n",
    "    refined_x = x - w // 2\n",
    "    refined_y = y - h\n",
    "\n",
    "    if refined_y < 0:\n",
    "        img_sticker = img_sticker[-refined_y:]\n",
    "        refined_y = 0\n",
    "\n",
    "    img_bgr = img_orig.copy()\n",
    "    sticker_area = img_bgr[refined_y:refined_y+img_sticker.shape[0], refined_x:refined_x+img_sticker.shape[1]]\n",
    "\n",
    "    img_bgr[refined_y:refined_y+img_sticker.shape[0], refined_x:refined_x+img_sticker.shape[1]] = \\\n",
    "        cv2.addWeighted(sticker_area, 1.0, img_sticker, 0.7, 0)\n",
    "\n",
    "    return img_bgr"
   ]
  },
  {
   "cell_type": "markdown",
   "id": "entertaining-start",
   "metadata": {},
   "source": [
    "### 동영상 안정화(stabilizer) 설계\n",
    "#### 칼만 필터 \n",
    "- [Kalman filter 소개](https://medium.com/@celinachild/kalman-filter-%EC%86%8C%EA%B0%9C-395c2016b4d6)\n",
    "![칼만](https://aiffelstaticprd.blob.core.windows.net/media/images/GC-7-L-13.max-800x600.png)  "
   ]
  },
  {
   "cell_type": "code",
   "execution_count": 1,
   "id": "fabulous-bonus",
   "metadata": {},
   "outputs": [],
   "source": [
    "import numpy as np\n",
    "import matplotlib.pyplot as plt\n",
    "from numpy.linalg import inv"
   ]
  },
  {
   "cell_type": "code",
   "execution_count": 2,
   "id": "criminal-screw",
   "metadata": {},
   "outputs": [],
   "source": [
    "def get_pos_vel(idx, dt, init_pos=0, init_vel=20):\n",
    "    w = np.random.normal(0, 1)                # w: system noise.\n",
    "    v = np.random.normal(0, 2)                # v: measurement noise.\n",
    "\n",
    "    vel_true = init_vel + w                   # nominal velocity = 80 [m/s].\n",
    "    pos_true = init_pos + sum([vel_true*dt for i in range(idx)])\n",
    "    z_pos_meas = pos_true + v                 # z_pos_meas: measured position (observable)\n",
    "    \n",
    "    return z_pos_meas, vel_true, pos_true#, v, w"
   ]
  },
  {
   "cell_type": "code",
   "execution_count": 3,
   "id": "advisory-hawaii",
   "metadata": {},
   "outputs": [
    {
     "name": "stdout",
     "output_type": "stream",
     "text": [
      "(-0.7249233130891777, 19.42611011641862, 0)\n",
      "(24.540461256511453, 20.825403721578056, 20.825403721578056)\n",
      "(42.24133978316232, 19.735058185581085, 39.47011637116217)\n",
      "(65.78294680872008, 21.038168274875478, 63.11450482462644)\n",
      "(81.57544519332366, 21.055060669390414, 84.22024267756166)\n",
      "(103.587615216264, 21.145966311134924, 105.72983155567462)\n",
      "(111.09935005946716, 18.669130747516043, 112.01478448509627)\n",
      "(135.38960939601418, 19.272803100034412, 134.90962170024088)\n",
      "(154.1664848392535, 19.58685722914946, 156.69485783319567)\n",
      "(199.213701568116, 22.292227089477866, 200.63004380530083)\n"
     ]
    }
   ],
   "source": [
    "for i in range(0,10):\n",
    "    print (get_pos_vel(i, 1))"
   ]
  },
  {
   "cell_type": "code",
   "execution_count": 4,
   "id": "expired-alert",
   "metadata": {},
   "outputs": [],
   "source": [
    "def kalman_filter(z, x, P):\n",
    "# Kalman Filter Algorithm\n",
    "    # 예측 단계\n",
    "    xp = A @ x\n",
    "    Pp = A @ P @ A.T + Q\n",
    "\n",
    "    # 추정 단계\n",
    "    K = Pp @ H.T @ inv(H @ Pp @ H.T + R)\n",
    "    x = xp + K @ (z - H @ xp)\n",
    "    P = Pp - K @ H @ Pp\n",
    "    return x, P"
   ]
  },
  {
   "cell_type": "code",
   "execution_count": 5,
   "id": "measured-boxing",
   "metadata": {},
   "outputs": [],
   "source": [
    "# time param\n",
    "time_end = 5\n",
    "dt= 0.05"
   ]
  },
  {
   "cell_type": "code",
   "execution_count": 6,
   "id": "vital-brazilian",
   "metadata": {},
   "outputs": [],
   "source": [
    "# init matrix\n",
    "A = np.array([[1, dt],\n",
    "                       [0, 1]]) # pos * 1 + vel * dt = 예측 위치\n",
    "H = np.array([[1, 0]])\n",
    "\n",
    "\n",
    "\n",
    "# Q : 시스템 오차(클 수록 오차공분산이 커져서 측정값을 더 신뢰)\n",
    "Q = np.array([[1, 0],\n",
    "                       [0, 1]])\n",
    "# R : 측정 오차(칼만 이득에서 inv term이 존재하기 때문에 R이 커질수록 칼만 이득이 작아진다. 측정 오차가 클수록 시스템에 더 신뢰)\n",
    "R = np.array([[200]])"
   ]
  },
  {
   "cell_type": "code",
   "execution_count": 7,
   "id": "specialized-technician",
   "metadata": {},
   "outputs": [],
   "source": [
    "# Initialization for estimation.\n",
    "x_0 = np.array([0, 20])  # position and velocity\n",
    "P_0 = 1 * np.eye(2)"
   ]
  },
  {
   "cell_type": "code",
   "execution_count": 8,
   "id": "streaming-adaptation",
   "metadata": {},
   "outputs": [],
   "source": [
    "time = np.arange(0, time_end, dt)\n",
    "n_samples = len(time)\n",
    "pos_meas_save = np.zeros(n_samples)\n",
    "vel_true_save = np.zeros(n_samples)\n",
    "pos_esti_save = np.zeros(n_samples)\n",
    "vel_esti_save = np.zeros(n_samples)"
   ]
  },
  {
   "cell_type": "code",
   "execution_count": 9,
   "id": "consistent-maine",
   "metadata": {},
   "outputs": [],
   "source": [
    "pos_true = 0\n",
    "x, P = None, None\n",
    "for i in range(n_samples):\n",
    "    z, vel_true, pos_true = get_pos_vel(i, dt)\n",
    "    if i == 0:\n",
    "        x, P = x_0, P_0\n",
    "    else:\n",
    "        x, P = kalman_filter(z, x, P)\n",
    "\n",
    "    pos_meas_save[i] = z\n",
    "    vel_true_save[i] = vel_true\n",
    "    pos_esti_save[i] = x[0]\n",
    "    vel_esti_save[i] = x[1]"
   ]
  },
  {
   "cell_type": "code",
   "execution_count": 10,
   "id": "catholic-convention",
   "metadata": {},
   "outputs": [
    {
     "data": {
      "text/plain": [
       "Text(0, 0.5, 'Velocity [m/s]')"
      ]
     },
     "execution_count": 10,
     "metadata": {},
     "output_type": "execute_result"
    },
    {
     "data": {
      "image/png": "[encoded data removed]",
      "text/plain": [
       "<Figure size 864x432 with 2 Axes>"
      ]
     },
     "metadata": {
      "needs_background": "light"
     },
     "output_type": "display_data"
    }
   ],
   "source": [
    "fig, axes = plt.subplots(nrows=1, ncols=2, figsize=(12, 6))\n",
    "\n",
    "plt.subplot(1, 2, 1)\n",
    "plt.plot(time, pos_meas_save, 'r*--', label='Measurements', markersize=10)\n",
    "plt.plot(time, pos_esti_save, 'bo-', label='Estimation (KF)')\n",
    "plt.legend(loc='upper left')\n",
    "plt.title('Position: Meas. v.s. Esti. (KF)')\n",
    "plt.xlabel('Time [sec]')\n",
    "plt.ylabel('Position [m]')\n",
    "\n",
    "plt.subplot(1, 2, 2)\n",
    "plt.plot(time, vel_true_save, 'g*--', label='True', markersize=10)\n",
    "plt.plot(time, vel_esti_save, 'bo-', label='Estimation (KF)')\n",
    "plt.legend(loc='lower right')\n",
    "plt.title('Velocity: True v.s. Esti. (KF)')\n",
    "plt.xlabel('Time [sec]')\n",
    "plt.ylabel('Velocity [m/s]')"
   ]
  },
  {
   "cell_type": "markdown",
   "id": "governing-rover",
   "metadata": {},
   "source": [
    "#### 칼만 필터 적용시 노이즈가 확연하게 줄어든 것을 볼 수 있다."
   ]
  }
 ],
 "metadata": {
  "kernelspec": {
   "display_name": "aiffel",
   "language": "python",
   "name": "aiffel"
  },
  "language_info": {
   "codemirror_mode": {
    "name": "ipython",
    "version": 3
   },
   "file_extension": ".py",
   "mimetype": "text/x-python",
   "name": "python",
   "nbconvert_exporter": "python",
   "pygments_lexer": "ipython3",
   "version": "3.7.10"
  }
 },
 "nbformat": 4,
 "nbformat_minor": 5
}
